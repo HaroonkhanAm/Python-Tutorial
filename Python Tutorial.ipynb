{
 "cells": [
  {
   "cell_type": "markdown",
   "id": "728aa1e9",
   "metadata": {},
   "source": [
    "<div class=\"alert alert-block alert-danger\">  \n",
    "    <h1><center><strong><font size=120px>Python Tutorial</font></strong></center></h1>   \n",
    "</div>"
   ]
  },
  {
   "cell_type": "markdown",
   "id": "5cd2354a",
   "metadata": {},
   "source": [
    "In this Notebook, we can learn Python language in detail with all the Concepts with the best examples. Python is used in so many fields like Develop Web-App, Software, Task Automation and Data-Analysis, etc which is the Future of the World. In this Tutorial, every topic has Two or more examples. We are using Jupytor Notebook for this Tutorial which is best for practice and professional work.\n",
    "So learn and practice <strong><font color=b16e0d> \"Fly High and Touch the Sky\". </font><strong>.<br>\n",
    "In this python Tutorial we have covered the following topics: \n",
    "    \n",
    "\n",
    "- Data-Types\n",
    "- Comparison Operators\n",
    "- If & Else Statement\n",
    "- For & While Loop\n",
    "- Function\n",
    "- Lambda Function\n",
    "- File I/O\n",
    "\n"
   ]
  },
  {
   "cell_type": "markdown",
   "id": "0b7bd401",
   "metadata": {},
   "source": [
    "<img src=\"https://files.realpython.com/media/Primer-on-Python-Decorators_Watermarked.d0da542fa3fc.jpg\" width=\"800\" align=\"center\"/>\n",
    "<center>Reference:<a href=\"https://files.realpython.com/media/Primer-on-Python-Decorators_Watermarked.d0da542fa3fc.jpg\"> image Link</a></center>"
   ]
  },
  {
   "cell_type": "markdown",
   "id": "9db38cd1",
   "metadata": {},
   "source": [
    "<div class=\"alert alert-block alert-danger\">  \n",
    "    <h1><center><strong><font size=120px>Python Language</font></strong></center></h1>   \n",
    "</div>"
   ]
  },
  {
   "cell_type": "markdown",
   "id": "2fd0c279",
   "metadata": {},
   "source": [
    "#  <font color=b16e0d>Table of Contents </font>"
   ]
  },
  {
   "cell_type": "markdown",
   "id": "252050d5",
   "metadata": {},
   "source": [
    "### [1. Introduction](#1)\n",
    "### [2. Data-Types](#2)\n",
    "        2.1 Variables\n",
    "        2.2 Numbers\n",
    "        2.3 Strings\n",
    "        2.4 Lists\n",
    "        2.5 Dictionaries\n",
    "        2.6 Tuples\n",
    "        2.7 Sets \n",
    "### [3. Comparison Operators](#3)\n",
    "### [4. If-Else Statements](#4)\n",
    "### [5. For & While Loop](#5)\n",
    "### [6. Functions](#6)\n",
    "### [7. Lambda Functions](#7)\n",
    "        7.1 Map()\n",
    "        7.2 filter()\n",
    "### [8. File I/O](#8)\n",
    "### [9. Mini Project (Calculator)](#9)\n"
   ]
  },
  {
   "cell_type": "markdown",
   "id": "2a7b5a4a",
   "metadata": {},
   "source": [
    "<a id=\"1\"></a>\n",
    "<div class=\"alert alert-block alert-danger\">  \n",
    "    <h1><strong><font size=120px><center>1. Introduction</center></font></strong></h1>  </div> "
   ]
  },
  {
   "cell_type": "markdown",
   "id": "9484c3a5",
   "metadata": {},
   "source": [
    "Python is user friendly and high-level language. It's very easy to learn and read. Python makes the code short and Flexible. Python is used to Develop Web-App, Software, Machine learning, Deep Learning and data analysis, etc.\n",
    "There are some Characteristics of Python:\n",
    "- Python is a Free and open source Language.....\n",
    "- Python is very easy to Code.....\n",
    "- Easy to read.....\n",
    "- Python makes code short and Flexible.....\n",
    "- Python is object Oriented Language.....\n",
    "- GUI programming support\n",
    "- Python has Extensible Feature.....\n",
    "- It's very easy to Debug.....\n",
    "<img src=\"https://upload.wikimedia.org/wikipedia/commons/thumb/0/0a/Python.svg/270px-Python.svg.png\" width=\"200\" align=\"center\"/>\n",
    "<center>Reference:<a href=\"https://upload.wikimedia.org/wikipedia/commons/thumb/0/0a/Python.svg/270px-Python.svg.png\"> image Link</a></center>"
   ]
  },
  {
   "cell_type": "markdown",
   "id": "c17f9254",
   "metadata": {},
   "source": [
    "<a id=\"2\"></a>\n",
    "<div class=\"alert alert-block alert-danger\">  \n",
    "    <h1><center><strong><font size=120px>2. Data-Type</font></strong></center></h1>  </div> "
   ]
  },
  {
   "cell_type": "markdown",
   "id": "d2ac667b",
   "metadata": {},
   "source": [
    "The data type is very important in python. With the help of Data-Types in Python, we can know which types of data is stored in a variable and which operations are performed on data. <br>\n",
    "<strong>Data types in python:</strong>\n",
    "- Lists\n",
    "- Dictionaries\n",
    "- Tuples\n",
    "- Sets <br>\n",
    "\n",
    "<strong>Types of Data types:</strong>\n",
    "- Variables\n",
    "- Numbers\n",
    "- Strings\n",
    "<img src=\"https://static.javatpoint.com/python/images/python-data-types.png\" width=\"300\" align=\"center\" length=\"1\"/>\n",
    "<center>Reference:<a href=\"https://static.javatpoint.com/python/images/python-data-types.png\"> image Link</a></center>"
   ]
  },
  {
   "cell_type": "markdown",
   "id": "7001b786",
   "metadata": {},
   "source": [
    "<h3><strong><font color=DarkBlue , size=5px,> 2.1 Variables </font></strong></h3>  </div>\n",
    "\n",
    "   Variable is used as a container in programming to store data in memory. Actually variable name is a memory location name in which data are stored.<br>Remember: Variable can't be start with any keyword & Numaric."
   ]
  },
  {
   "cell_type": "code",
   "execution_count": 61,
   "id": "94d6743d",
   "metadata": {},
   "outputs": [
    {
     "name": "stdout",
     "output_type": "stream",
     "text": [
      "Apple\n",
      "12\n",
      "12.0\n"
     ]
    }
   ],
   "source": [
    "fruit=\"Apple\"    # String type Variable\n",
    "Digits=12        # intiger type of variable\n",
    "point_value=12.0 # float type variable \n",
    "# Print the all values\n",
    "print(fruit)\n",
    "print(Digits)\n",
    "print(point_value)"
   ]
  },
  {
   "cell_type": "code",
   "execution_count": 62,
   "id": "e96088dc",
   "metadata": {},
   "outputs": [
    {
     "name": "stdout",
     "output_type": "stream",
     "text": [
      "Banana <class 'str'>\n",
      "1200 <class 'int'>\n",
      "0.12 <class 'float'>\n"
     ]
    }
   ],
   "source": [
    "fruit=\"Banana\"     # String type Variable\n",
    "Digits=1200        # intiger type of variable\n",
    "point_value=0.12   # float type variable \n",
    "# Print the all values\n",
    "print(fruit, type(fruit))\n",
    "print(Digits, type(Digits))                    # type() method you can know the type of Variable.\n",
    "print(point_value, type(point_value))"
   ]
  },
  {
   "cell_type": "markdown",
   "id": "e19a917b",
   "metadata": {},
   "source": [
    "> with the use of type() method you can know the type of Variable."
   ]
  },
  {
   "cell_type": "markdown",
   "id": "36973b10",
   "metadata": {},
   "source": [
    "<h3><strong><font color=DarkBlue , size=5px,> 2.2 Numbers  </font></strong></h3>  </div>\n",
    "\n",
    "   Numbers is a type of Python Data-type in which we store all the numeric values. There 2 Types:\n",
    "   - Intiger......all the natural numbers is intiger\n",
    "   - Float  ...... all the numbers with point is float"
   ]
  },
  {
   "cell_type": "code",
   "execution_count": 63,
   "id": "32ab84e5",
   "metadata": {},
   "outputs": [
    {
     "name": "stdout",
     "output_type": "stream",
     "text": [
      "1 <class 'int'>\n",
      "2 <class 'int'>\n",
      "3 <class 'int'>\n"
     ]
    }
   ],
   "source": [
    "1   # intiger\n",
    "2   # intiger\n",
    "4   # intiger\n",
    "# Print the all values\n",
    "print(1,type(1))\n",
    "print(2,type(2))      # type() method you can know the type of Variable.\n",
    "print(3,type(4))"
   ]
  },
  {
   "cell_type": "code",
   "execution_count": 64,
   "id": "967ffe23",
   "metadata": {},
   "outputs": [
    {
     "name": "stdout",
     "output_type": "stream",
     "text": [
      "1.0 <class 'float'>\n",
      "5.12 <class 'float'>\n",
      "9.99 <class 'float'>\n",
      "0.01 <class 'float'>\n"
     ]
    }
   ],
   "source": [
    "1.0  #Float\n",
    "5.12 #float\n",
    "9.99 #Float\n",
    "0.01 #Float\n",
    "# Print the all values\n",
    "print(1.0,type(1.0))\n",
    "print(5.12,type(5.12))\n",
    "print(9.99,type(9.99))         # type() method you can know the type of Variable.\n",
    "print(0.01,type(0.01))"
   ]
  },
  {
   "cell_type": "markdown",
   "id": "845dd9b2",
   "metadata": {},
   "source": [
    "<h3><strong><font color=DarkBlue , size=5px,>  2.3 Strings  </font></strong></h3>  </div>\n",
    " \n",
    "  String data types are used to store words, letters, numbers and special characters, etc. <br>\n",
    "   We write strings in single quotes and double quotes. Anything inside the quotes is a string and prints as it is in the output.\n"
   ]
  },
  {
   "cell_type": "code",
   "execution_count": 65,
   "id": "042a53eb",
   "metadata": {},
   "outputs": [
    {
     "name": "stdout",
     "output_type": "stream",
     "text": [
      "Name:    Haroon <class 'str'>\n",
      "Course:  Artifial Inteligence <class 'str'>\n",
      "Depart:  IT <class 'str'>\n",
      "Batch:   2022 <class 'str'>\n"
     ]
    }
   ],
   "source": [
    "name='Haroon'\n",
    "course=\"Artifial Inteligence\"    # All the value written in Qoutes is strings\n",
    "Department=\"IT\"\n",
    "Batch='2022'\n",
    "# Print the all strings\n",
    "print(\"Name:   \",name,type(name))\n",
    "print(\"Course: \",course,type(course))                 \n",
    "print(\"Depart: \", Department,type(Department))         # type() method you can know the type of Variable.\n",
    "print(\"Batch:  \",Batch,type(Batch))"
   ]
  },
  {
   "cell_type": "markdown",
   "id": "3039e996",
   "metadata": {},
   "source": [
    "<h3><strong><font color=DarkBlue , size=5px,>  How to Access to String:</font></strong></h3>  </div>\n",
    "\n",
    "   - We can access the string by index number[0].<br>\n",
    "   - Access by Slicing in [0:1]."
   ]
  },
  {
   "cell_type": "code",
   "execution_count": 66,
   "id": "d9e2a4bc",
   "metadata": {},
   "outputs": [
    {
     "name": "stdout",
     "output_type": "stream",
     "text": [
      "Imran\n",
      "I\n"
     ]
    }
   ],
   "source": [
    "string=\"Imran\", \"Zaman\"      # when string have more then one value every value have a separate index number.\n",
    "string1=\"Imran\"              # when string have only one value then every charactor of string have a separate index number.\n",
    "# Print the all strings\n",
    "print(string[0])       \n",
    "print(string1[0])"
   ]
  },
  {
   "cell_type": "code",
   "execution_count": 67,
   "id": "89b9a881",
   "metadata": {},
   "outputs": [
    {
     "name": "stdout",
     "output_type": "stream",
     "text": [
      "('Prof', 'Imran')\n",
      "('Imran',)\n"
     ]
    }
   ],
   "source": [
    "string=\"Prof\",\"Imran\", \"Zaman\"     \n",
    "# Print the all strings\n",
    "print(string[0:2])                 # print 2 value of string index0[prof] & index1[Imran] the index2 is ignored.\n",
    "print(string[1:2])                 # print the 1 value of string index1[Imran] the index2 is ignored."
   ]
  },
  {
   "cell_type": "markdown",
   "id": "7e653a72",
   "metadata": {},
   "source": [
    "> In slicing all the indexes are print except the last index for example index[0:2] 0,1 will be print and 2 will be ignored."
   ]
  },
  {
   "cell_type": "markdown",
   "id": "c82e0d29",
   "metadata": {},
   "source": [
    "<h3><strong><font color=DarkBlue , size=5px,> Updating String:</font></strong></h3>  </div>\n"
   ]
  },
  {
   "cell_type": "code",
   "execution_count": 68,
   "id": "4753ff45",
   "metadata": {},
   "outputs": [
    {
     "name": "stdout",
     "output_type": "stream",
     "text": [
      "Imran\n"
     ]
    }
   ],
   "source": [
    "string_var=\"Haroon\"    # first value is over-write/ignored when the string is update\n",
    "string_var=\"Imran\"\n",
    "print(string_var)"
   ]
  },
  {
   "cell_type": "code",
   "execution_count": 69,
   "id": "912e3fc5",
   "metadata": {},
   "outputs": [
    {
     "name": "stdout",
     "output_type": "stream",
     "text": [
      "Updated string:  Hello Sir Imran\n"
     ]
    }
   ],
   "source": [
    "stringVariable = \"Hello Sir!\"\n",
    "stringVariable = stringVariable[:9] + \" Imran\"  \n",
    "print(\"Updated string: \", stringVariable)"
   ]
  },
  {
   "cell_type": "markdown",
   "id": "46374950",
   "metadata": {},
   "source": [
    "<h3><strong><font color=DarkBlue , size=5px,> Deleting String:</font></strong></h3>  </div>\n",
    "\n",
    "- We can Delete the object not an element."
   ]
  },
  {
   "cell_type": "code",
   "execution_count": 70,
   "id": "b2242248",
   "metadata": {},
   "outputs": [
    {
     "ename": "NameError",
     "evalue": "name 'stringVar' is not defined",
     "output_type": "error",
     "traceback": [
      "\u001b[1;31m---------------------------------------------------------------------------\u001b[0m",
      "\u001b[1;31mNameError\u001b[0m                                 Traceback (most recent call last)",
      "\u001b[1;32m<ipython-input-70-28d4836b6e85>\u001b[0m in \u001b[0;36m<module>\u001b[1;34m\u001b[0m\n\u001b[0;32m      1\u001b[0m \u001b[0mstringVar\u001b[0m \u001b[1;33m=\u001b[0m \u001b[1;34m\"Hello World\"\u001b[0m\u001b[1;33m\u001b[0m\u001b[1;33m\u001b[0m\u001b[0m\n\u001b[0;32m      2\u001b[0m \u001b[1;32mdel\u001b[0m \u001b[0mstringVar\u001b[0m\u001b[1;33m\u001b[0m\u001b[1;33m\u001b[0m\u001b[0m\n\u001b[1;32m----> 3\u001b[1;33m \u001b[0mprint\u001b[0m \u001b[1;33m(\u001b[0m\u001b[0mstringVar\u001b[0m\u001b[1;33m)\u001b[0m\u001b[1;33m\u001b[0m\u001b[1;33m\u001b[0m\u001b[0m\n\u001b[0m",
      "\u001b[1;31mNameError\u001b[0m: name 'stringVar' is not defined"
     ]
    }
   ],
   "source": [
    "stringVar = \"Hello World\"\n",
    "del stringVar\n",
    "print (stringVar)\n"
   ]
  },
  {
   "cell_type": "markdown",
   "id": "b9bd9b76",
   "metadata": {},
   "source": [
    "<h3><strong><font color=DarkBlue , size=5px,> String special operators:</font></strong></h3>  </div>\n",
    "\n",
    " There are some special operators in String:\n",
    " - '+'\n",
    " - '*'\n",
    " - []\n",
    " - [:]\n",
    " - in\n",
    " - not in"
   ]
  },
  {
   "cell_type": "markdown",
   "id": "b0f2215e",
   "metadata": {},
   "source": [
    "- '+' Plus operator is used for concatenation."
   ]
  },
  {
   "cell_type": "code",
   "execution_count": null,
   "id": "31c7e895",
   "metadata": {},
   "outputs": [],
   "source": [
    "plus=\"Hello brother!\"\n",
    "print(plus + \"How are you?\")\n"
   ]
  },
  {
   "cell_type": "markdown",
   "id": "98bff104",
   "metadata": {},
   "source": [
    "- '*' Staric operator is used for Repatation."
   ]
  },
  {
   "cell_type": "code",
   "execution_count": null,
   "id": "0a2f3fdc",
   "metadata": {},
   "outputs": [],
   "source": [
    "plus=\"Hello brother!\"\n",
    "print(plus*2)\n",
    "print(plus*3)"
   ]
  },
  {
   "cell_type": "markdown",
   "id": "0203810d",
   "metadata": {},
   "source": [
    "- [] Square Bracket is used for print value by Index."
   ]
  },
  {
   "cell_type": "code",
   "execution_count": null,
   "id": "1c341d68",
   "metadata": {},
   "outputs": [],
   "source": [
    "string=\"Prof\",\"Imran\", \"Zaman\" \n",
    "print(string[0])                 # Print the value by index number\n",
    "print(string[1])\n",
    "print(string[2])"
   ]
  },
  {
   "cell_type": "markdown",
   "id": "f20ae3f4",
   "metadata": {},
   "source": [
    "- [:] Its used for print the value in a range."
   ]
  },
  {
   "cell_type": "code",
   "execution_count": null,
   "id": "24280945",
   "metadata": {},
   "outputs": [],
   "source": [
    "string=\"Prof\",\"Imran\", \"Zaman\" \n",
    "print(string[0:])         #print the all value 0 to onward"
   ]
  },
  {
   "cell_type": "code",
   "execution_count": null,
   "id": "45f71715",
   "metadata": {},
   "outputs": [],
   "source": [
    "string=\"Prof\",\"Imran\", \"Zaman\" \n",
    "print(string[0:2])     # print the value index 0,1 and ignore the index 2"
   ]
  },
  {
   "cell_type": "markdown",
   "id": "495bc147",
   "metadata": {},
   "source": [
    "- 'in' its used for searching in string. If the word is Existing in string its show 'True' else its show 'False'. "
   ]
  },
  {
   "cell_type": "code",
   "execution_count": null,
   "id": "a7d12e23",
   "metadata": {},
   "outputs": [],
   "source": [
    "in_oper=\"I'm prof Imran and I'm teaching Ai Course to my student\" # String in Quotes\n",
    "print(\"Imran\" in in_oper)                              # 'in' operator between string and variable name.\n",
    "in_oper1=\"Imran\",\"Zaman\",\"Haroon\",\"Zeeshan\"\n",
    "print(\"Zeeshan\" in in_oper1)   "
   ]
  },
  {
   "cell_type": "markdown",
   "id": "556db1bb",
   "metadata": {},
   "source": [
    "-  'not in' it is the oposite of \"in\" operator. Its show true if given character doesn't exists in string, else its show false.\n"
   ]
  },
  {
   "cell_type": "code",
   "execution_count": null,
   "id": "cc02f22e",
   "metadata": {},
   "outputs": [],
   "source": [
    "in_oper=\"I'm prof Imran and I'm teaching Ai Course to my student\" # String in Quotes\n",
    "print(\"Imran\" not in in_oper)                 # 'not in' operator between string and variable name.\n",
    "in_oper1=\"Imran\",\"Zaman\",\"Haroon\",\"Zeeshan\"   # String in Quotes\n",
    "print(\"Zeeshan\" not in in_oper1)              # 'not in' operator between string and variable name."
   ]
  },
  {
   "cell_type": "markdown",
   "id": "3330e986",
   "metadata": {},
   "source": [
    "<h3><strong><font color=DarkBlue , size=5px,>   2.4 List</font></strong></h3>  </div>\n",
    "\n",
    "- Lists are store multiple items in a single variable.\n",
    "- It can be written within square brackets with comma-separated values.\n",
    "- Lists are ordered, changeable, and allow duplicate values.\n",
    "- List items have indexed the first item has [0] the second has [1] etc. \n",
    "- We can add an item in the list it will be placed at the end of the list.\n",
    "- List support all Data-types.<br>\n",
    "<img src=\"https://media.geeksforgeeks.org/wp-content/uploads/List-Slicing.jpg\" width=\"400\" align=\"center\"/>\n",
    "<center>Reference:<a href=\"https://media.geeksforgeeks.org/wp-content/uploads/List-Slicing.jpg\"> image Link</a></center>"
   ]
  },
  {
   "cell_type": "code",
   "execution_count": 92,
   "id": "28a3b7c7",
   "metadata": {},
   "outputs": [
    {
     "name": "stdout",
     "output_type": "stream",
     "text": [
      "[1, 2, 3, 4, 5, 'imran', 'Zeeshan', 'Zeeshan', True, False, 0.1, 0.1]\n"
     ]
    }
   ],
   "source": [
    "mylist=[1, 2, 3, 4, 5, \"imran\",\"Zeeshan\", \"Zeeshan\", True, False, 0.1, 00.1,]  # simple List with all Data-types\n",
    "print(mylist)"
   ]
  },
  {
   "cell_type": "markdown",
   "id": "5b75bdb4",
   "metadata": {},
   "source": [
    "<h3><strong><font color=DarkBlue , size=5px,>  Accessing to element in List:</font></strong></h3>  </div>\n",
    "\n",
    "- Access item in list by index number [0].\n",
    "- Access item in list by slicing/Range [0:5]."
   ]
  },
  {
   "cell_type": "code",
   "execution_count": 93,
   "id": "af5fc4f6",
   "metadata": {},
   "outputs": [
    {
     "name": "stdout",
     "output_type": "stream",
     "text": [
      "2\n",
      "3\n",
      "imran\n",
      "Zeeshan\n"
     ]
    }
   ],
   "source": [
    "mylist=[1, 2, 3, 4, 5, \"imran\",\"Zeeshan\", \"Zeeshan\", True, False, 0.1, 00.1,]# simple List with all Data-types\n",
    "print(mylist[1])\n",
    "print(mylist[2])         # Print item in List by index[] number.\n",
    "print(mylist[5])\n",
    "print(mylist[6])"
   ]
  },
  {
   "cell_type": "code",
   "execution_count": 94,
   "id": "9ec14ee9",
   "metadata": {},
   "outputs": [
    {
     "name": "stdout",
     "output_type": "stream",
     "text": [
      "[1, 2, 3]\n",
      "[2]\n",
      "['imran', 'Zeeshan', 'Zeeshan']\n",
      "['Zeeshan', 'Zeeshan', True, False]\n"
     ]
    }
   ],
   "source": [
    "mylist=[1, 2, 3, 4, 5, \"imran\",\"Zeeshan\", \"Zeeshan\", True, False, 0.1, 00.1,]# simple List with all Data-types\n",
    "print(mylist[0:3])    #print only index 0,1 and 2. index 3 will  ignored\n",
    "print(mylist[1:2])    #print only index 1 and 2. index 2 will ignored\n",
    "print(mylist[5:8])    #print only index 5,6,and 7. index 8 will ignored\n",
    "print(mylist[6:10])   #print only index 6,7,8,and 9. index 10 will ignored"
   ]
  },
  {
   "cell_type": "markdown",
   "id": "8523e5f9",
   "metadata": {},
   "source": [
    "<h3><strong><font color=DarkBlue , size=5px,> Updating List:</font></strong></h3>  </div>\n",
    "\n",
    "- We can update a list by giving slice on the left side of the assignment operator and the updating item is given on the right side after the assignment operator in Quotes.\n",
    "- It can also be updated using the append() method/function and the item will add at the end of the list."
   ]
  },
  {
   "cell_type": "code",
   "execution_count": 95,
   "id": "6367bfce",
   "metadata": {},
   "outputs": [
    {
     "name": "stdout",
     "output_type": "stream",
     "text": [
      "[10, 12, 3, 4, 5, 'imran', 'Zeeshan', 'Zeeshan', True, False, 0.1, 0.1]\n"
     ]
    }
   ],
   "source": [
    "mylist=[1, 2, 3, 4, 5, \"imran\",\"Zeeshan\", \"Zeeshan\", True, False, 0.1, 00.1,]\n",
    "mylist[1]=12          #change the element value by the index number \n",
    "mylist[0]=10\n",
    "print(mylist)"
   ]
  },
  {
   "cell_type": "code",
   "execution_count": 96,
   "id": "77d4d399",
   "metadata": {},
   "outputs": [
    {
     "name": "stdout",
     "output_type": "stream",
     "text": [
      "[1, 2, 3, 4, 5, 'imran', 'Zeeshan', 'Zeeshan', True, False, 0.1, 0.1, 'Haroon', '123']\n"
     ]
    }
   ],
   "source": [
    "mylist=[1, 2, 3, 4, 5, \"imran\",\"Zeeshan\", \"Zeeshan\", True, False, 0.1, 00.1,]  \n",
    "mylist.append(\"Haroon\")    #add item in list by append() method\n",
    "mylist.append(\"123\")\n",
    "print(mylist)"
   ]
  },
  {
   "cell_type": "markdown",
   "id": "4bba0b9f",
   "metadata": {},
   "source": [
    "<h3><strong><font color=DarkBlue , size=5px,> Deleting elements from list:</font></strong></h3>  </div>\n",
    "\n",
    "- 'del' statement is used delete the element from list by index number.\n",
    "- remove() method is used to remove an element by name."
   ]
  },
  {
   "cell_type": "code",
   "execution_count": 97,
   "id": "c161ea93",
   "metadata": {},
   "outputs": [
    {
     "name": "stdout",
     "output_type": "stream",
     "text": [
      "[1, 2, 3, 4, 5, 'Zeeshan', True, False, 0.1, 0.1]\n"
     ]
    }
   ],
   "source": [
    "mylist2=[1, 2, 3, 4, 5, \"imran\",\"Zeeshan\", \"Zeeshan\", True, False, 0.1, 00.1,]\n",
    "del mylist2[5]         #Delete the element by index[] number\n",
    "del mylist2[6]\n",
    "print(mylist2)"
   ]
  },
  {
   "cell_type": "markdown",
   "id": "8e7fbee2",
   "metadata": {},
   "source": [
    "<h3><strong><font color=DarkBlue , size=5px,> 2.5 Dictionaries</font></strong></h3>  </div>\n",
    "\n",
    "- Dictionaries are store data values in key:value pairs.\n",
    "- Dictionaries are written with keys and values in curly brackets.\n",
    "- Dictionary does not allow duplicate values.\n",
    "- Dictionary are ordered and muteable<br>\n",
    "<img src=\"https://developers.google.com/static/edu/python/images/dict.png\" width=\"400\" align=\"center\"/>\n",
    "<center>Reference:<a href=\"https://developers.google.com/static/edu/python/images/dict.png\"> image Link</a></center>"
   ]
  },
  {
   "cell_type": "code",
   "execution_count": 98,
   "id": "f40669c0",
   "metadata": {},
   "outputs": [
    {
     "name": "stdout",
     "output_type": "stream",
     "text": [
      "{'name': 'haroon', 'father': 'Mujahid', 'city': 'Lahore'} <class 'dict'>\n"
     ]
    }
   ],
   "source": [
    "mydic={\"name\":\"haroon\", \"father\":\"Mujahid\", \"city\":\"Lahore\"}    # Create a simple Dic \n",
    "print(mydic, type(mydic))                                       # Print item and check type of data by type() method"
   ]
  },
  {
   "cell_type": "markdown",
   "id": "7bf760fc",
   "metadata": {},
   "source": [
    "<h3><strong><font color=DarkBlue , size=5px,>Accessing elements in Dic:</font></strong></h3>  </div>\n",
    "\n",
    "- Access to Dic elements by Key write in Square Brace [].\n",
    "- Access the Dic elements by using get() method."
   ]
  },
  {
   "cell_type": "code",
   "execution_count": 99,
   "id": "9aa37fcf",
   "metadata": {},
   "outputs": [
    {
     "name": "stdout",
     "output_type": "stream",
     "text": [
      "Haroon\n",
      "Lahore\n"
     ]
    }
   ],
   "source": [
    "mydic={\"name\":\"Haroon\", \"father\":\"Mujahid\", \"city\":\"Lahore\"}   # Create a simple Dic \n",
    "print(mydic[\"name\"])\n",
    "print(mydic[\"city\"])"
   ]
  },
  {
   "cell_type": "code",
   "execution_count": 100,
   "id": "eabae64c",
   "metadata": {},
   "outputs": [
    {
     "name": "stdout",
     "output_type": "stream",
     "text": [
      "Mujahid\n",
      "Lahore\n"
     ]
    }
   ],
   "source": [
    "mydic={\"name\":\"Haroon\", \"father\":\"Mujahid\", \"city\":\"Lahore\"} \n",
    "print(mydic.get(\"father\"))     # get() method to access the elements\n",
    "print(mydic.get(\"city\"))"
   ]
  },
  {
   "cell_type": "markdown",
   "id": "035b551f",
   "metadata": {},
   "source": [
    "<h3><strong><font color=DarkBlue , size=5px,>Updating of Dic:</font></strong></h3>  </div>\n",
    "- Update the Dic write the key in the Square Brace before the assignment operator and the value is wrote in quotes after assignment operator.<br>\n",
    "- Using the the update() method to update a Dictionary."
   ]
  },
  {
   "cell_type": "code",
   "execution_count": 101,
   "id": "ad8e5343",
   "metadata": {},
   "outputs": [
    {
     "name": "stdout",
     "output_type": "stream",
     "text": [
      "{'name': 'Haroon', 'father': 'Mujahid', 'city': 'Karachi'}\n"
     ]
    }
   ],
   "source": [
    "mydic={\"name\":\"Haroon\", \"father\":\"Mujahid\", \"city\":\"Lahore\"}  # Create a simple Dic\n",
    "mydic[\"city\"]=\"Karachi\"      # change the existing value of a key \n",
    "print(mydic)"
   ]
  },
  {
   "cell_type": "code",
   "execution_count": 102,
   "id": "cbc9aebf",
   "metadata": {},
   "outputs": [
    {
     "name": "stdout",
     "output_type": "stream",
     "text": [
      "{'name': 'Haroon', 'father': 'Mujahid', 'city': 'Lahore', 'province': 'punjab'}\n"
     ]
    }
   ],
   "source": [
    "mydic={\"name\":\"Haroon\", \"father\":\"Mujahid\", \"city\":\"Lahore\"} # Create a simple Dic \n",
    "mydic.update({\"province\":\"punjab\"})    #update the Dictionary\n",
    "print(mydic)"
   ]
  },
  {
   "cell_type": "markdown",
   "id": "9bcc4482",
   "metadata": {},
   "source": [
    "<h3><strong><font color=DarkBlue , size=5px,>Delete elements from Dic:</font></strong></h3>  </div>\n",
    "\n",
    "- pop() method remove the item by his key.\n",
    "- del() method del the item by his key & also del() is used to delete the complete Dictionary.\n",
    "- clear() method is used to clear all the item from Dictionary."
   ]
  },
  {
   "cell_type": "code",
   "execution_count": 103,
   "id": "480d11f0",
   "metadata": {},
   "outputs": [
    {
     "name": "stdout",
     "output_type": "stream",
     "text": [
      "{'name': 'Haroon', 'father': 'Mujahid'}\n"
     ]
    }
   ],
   "source": [
    "mydic={\"name\":\"Haroon\", \"father\":\"Mujahid\", \"city\":\"Lahore\"}  # Create a simple Dic \n",
    "mydic.pop(\"city\")    #pop() the last key-value from Dictionary.\n",
    "print(mydic)"
   ]
  },
  {
   "cell_type": "code",
   "execution_count": 104,
   "id": "5a5f1b35",
   "metadata": {},
   "outputs": [
    {
     "name": "stdout",
     "output_type": "stream",
     "text": [
      "{'father': 'Mujahid', 'city': 'Lahore'}\n"
     ]
    },
    {
     "ename": "NameError",
     "evalue": "name 'mydic' is not defined",
     "output_type": "error",
     "traceback": [
      "\u001b[1;31m---------------------------------------------------------------------------\u001b[0m",
      "\u001b[1;31mNameError\u001b[0m                                 Traceback (most recent call last)",
      "\u001b[1;32m<ipython-input-104-fc227a1069c2>\u001b[0m in \u001b[0;36m<module>\u001b[1;34m\u001b[0m\n\u001b[0;32m      3\u001b[0m \u001b[0mprint\u001b[0m\u001b[1;33m(\u001b[0m\u001b[0mmydic\u001b[0m\u001b[1;33m)\u001b[0m\u001b[1;33m\u001b[0m\u001b[1;33m\u001b[0m\u001b[0m\n\u001b[0;32m      4\u001b[0m \u001b[1;32mdel\u001b[0m \u001b[0mmydic\u001b[0m          \u001b[1;31m# 'del' is also used to Delete the whole Dictionary\u001b[0m\u001b[1;33m\u001b[0m\u001b[1;33m\u001b[0m\u001b[0m\n\u001b[1;32m----> 5\u001b[1;33m \u001b[0mprint\u001b[0m\u001b[1;33m(\u001b[0m\u001b[0mmydic\u001b[0m\u001b[1;33m)\u001b[0m\u001b[1;33m\u001b[0m\u001b[1;33m\u001b[0m\u001b[0m\n\u001b[0m",
      "\u001b[1;31mNameError\u001b[0m: name 'mydic' is not defined"
     ]
    }
   ],
   "source": [
    "mydic={\"name\":\"Haroon\", \"father\":\"Mujahid\", \"city\":\"Lahore\"}   # Create a simple Dic\n",
    "del mydic[\"name\"]  #Delete the item by his key from Dictionary\n",
    "print(mydic)\n",
    "del mydic          # 'del' is also used to Delete the whole Dictionary\n",
    "print(mydic)"
   ]
  },
  {
   "cell_type": "code",
   "execution_count": 105,
   "id": "3c6d176e",
   "metadata": {},
   "outputs": [
    {
     "name": "stdout",
     "output_type": "stream",
     "text": [
      "{}\n"
     ]
    }
   ],
   "source": [
    "mydic={\"name\":\"Haroon\", \"father\":\"Mujahid\", \"city\":\"Lahore\"} # Create a simple Dic \n",
    "mydic.clear()    # remove all the key-values from Dictionary.\n",
    "print(mydic)"
   ]
  },
  {
   "cell_type": "markdown",
   "id": "43dbea52",
   "metadata": {},
   "source": [
    "<h3><strong><font color=DarkBlue , size=5px,>2.6 Tuples</font></strong></h3>  </div>\n",
    "\n",
    "- Tuples are store multiple items in a single variable.\n",
    "- Tuples are written with round brackets.\n",
    "- Tuple support all Data-types.\n",
    "- Tuple are ordered, changeable, and allow duplicate values.\n",
    "- Tuple items have indexed first item has indexed [0] the second has indexed [1] etc. .<br>\n",
    "<img src=\"https://pynative.com/wp-content/uploads/2021/02/python-tuple.jpg\" width=\"400\" align=\"center\"/>\n",
    "<center>Reference:<a href=\"https://pynative.com/wp-content/uploads/2021/02/python-tuple.jpg\"> image Link</a></center>"
   ]
  },
  {
   "cell_type": "code",
   "execution_count": 106,
   "id": "71177aee",
   "metadata": {},
   "outputs": [
    {
     "name": "stdout",
     "output_type": "stream",
     "text": [
      "(1, 2, 3, 'a', 'b', 'c', True, False, 0.2, 3.2)\n"
     ]
    }
   ],
   "source": [
    "mytuple=(1,2,3,'a','b','c',True,False,0.2,3.2)        # Tuple with all Data-types \n",
    "print(mytuple)"
   ]
  },
  {
   "cell_type": "markdown",
   "id": "3d57077c",
   "metadata": {},
   "source": [
    "<h3><strong><font color=DarkBlue , size=5px,> Accessing to Tuple:</font></strong></h3>  </div>\n",
    "\n",
    "- Access item in Tuple by index number [0].\n",
    "- Access item in Tuple by slicing/Range [0:5]."
   ]
  },
  {
   "cell_type": "code",
   "execution_count": 107,
   "id": "90013eef",
   "metadata": {},
   "outputs": [
    {
     "name": "stdout",
     "output_type": "stream",
     "text": [
      "a\n",
      "b\n",
      "c\n"
     ]
    }
   ],
   "source": [
    "mytuple=(1,2,3,'a','b','c',True,False,0.2,3.2)      # simple Tuple with all Data-types \n",
    "print(mytuple[3])                                   # Print the item in Tuple by index[] number.\n",
    "print(mytuple[4])\n",
    "print(mytuple[5])"
   ]
  },
  {
   "cell_type": "code",
   "execution_count": 108,
   "id": "441f6147",
   "metadata": {},
   "outputs": [
    {
     "name": "stdout",
     "output_type": "stream",
     "text": [
      "(2, 3)\n",
      "('b', 'c', True, False)\n",
      "('c', True, False, 0.2, 3.2)\n"
     ]
    }
   ],
   "source": [
    "mytuple=(1,2,3,'a','b','c',True,False,0.2,3.2)       # Tuple with all Data-types\n",
    "print(mytuple[1:3])                                  # Print the item in range in Tuple by index[] number.\n",
    "print(mytuple[4:8])\n",
    "print(mytuple[5:10])"
   ]
  },
  {
   "cell_type": "markdown",
   "id": "8b00aee8",
   "metadata": {},
   "source": [
    "<h3><strong><font color=DarkBlue , size=5px,> Updating Tuple:</font></strong></h3>  </div>\n",
    "\n",
    "- We can't update the Tuple but we can combine two Tuples.\n",
    "- To update the Tuple using the Type-Casting."
   ]
  },
  {
   "cell_type": "code",
   "execution_count": 109,
   "id": "41a02aaa",
   "metadata": {},
   "outputs": [
    {
     "name": "stdout",
     "output_type": "stream",
     "text": [
      "(1, 2, 3, 4, 5, 'a', 'b', 'c', 'd')\n"
     ]
    }
   ],
   "source": [
    "mytuple=(1,2,3,4,5)              # Create a Tuple\n",
    "mytuple1=('a','b','c','d')       # Create a Tuple1\n",
    "mytup=mytuple+mytuple1           # Combination of 2 Tuple\n",
    "print(mytup)"
   ]
  },
  {
   "cell_type": "code",
   "execution_count": 110,
   "id": "f46e2629",
   "metadata": {},
   "outputs": [
    {
     "name": "stdout",
     "output_type": "stream",
     "text": [
      "['a', 'b', 'c', 'd', 'e'] <class 'list'>\n",
      "('a', 'b', 'c', 'd', 'e') <class 'tuple'>\n"
     ]
    }
   ],
   "source": [
    "mytuple1=('a','b','c','d')\n",
    "mytup=list(mytuple1)    #convert Tuple into List\n",
    "mytup.append('e')      #add item in list\n",
    "print(mytup,type(mytup)) #Print the list \n",
    "mytuple1=tuple(mytup)  # list Convert into Tuple\n",
    "print(mytuple1,type(mytuple1)) # print item in Tuple"
   ]
  },
  {
   "cell_type": "markdown",
   "id": "9916fc5f",
   "metadata": {},
   "source": [
    "<h3><strong><font color=DarkBlue , size=5px,> Deleting elements from Tuple:</font></strong></h3>  </div>\n",
    "\n",
    "- We can't Delete elements from Tuple becouse Tuple is not changable.\n",
    "- We can Delete the complete Tuple."
   ]
  },
  {
   "cell_type": "code",
   "execution_count": 111,
   "id": "bb43b7f8",
   "metadata": {},
   "outputs": [
    {
     "ename": "NameError",
     "evalue": "name 'mytuple' is not defined",
     "output_type": "error",
     "traceback": [
      "\u001b[1;31m---------------------------------------------------------------------------\u001b[0m",
      "\u001b[1;31mNameError\u001b[0m                                 Traceback (most recent call last)",
      "\u001b[1;32m<ipython-input-111-aaa1085a849d>\u001b[0m in \u001b[0;36m<module>\u001b[1;34m\u001b[0m\n\u001b[0;32m      1\u001b[0m \u001b[0mmytuple\u001b[0m\u001b[1;33m=\u001b[0m\u001b[1;33m(\u001b[0m\u001b[1;36m1\u001b[0m\u001b[1;33m,\u001b[0m\u001b[1;36m2\u001b[0m\u001b[1;33m,\u001b[0m\u001b[1;36m3\u001b[0m\u001b[1;33m,\u001b[0m\u001b[1;36m4\u001b[0m\u001b[1;33m,\u001b[0m\u001b[1;36m5\u001b[0m\u001b[1;33m)\u001b[0m          \u001b[1;31m# Create a simple Tuple\u001b[0m\u001b[1;33m\u001b[0m\u001b[1;33m\u001b[0m\u001b[0m\n\u001b[0;32m      2\u001b[0m \u001b[1;32mdel\u001b[0m \u001b[0mmytuple\u001b[0m                   \u001b[1;31m# Delete the Whole Tuple by 'del' keyword\u001b[0m\u001b[1;33m\u001b[0m\u001b[1;33m\u001b[0m\u001b[0m\n\u001b[1;32m----> 3\u001b[1;33m \u001b[0mprint\u001b[0m\u001b[1;33m(\u001b[0m\u001b[0mmytuple\u001b[0m\u001b[1;33m)\u001b[0m\u001b[1;33m\u001b[0m\u001b[1;33m\u001b[0m\u001b[0m\n\u001b[0m",
      "\u001b[1;31mNameError\u001b[0m: name 'mytuple' is not defined"
     ]
    }
   ],
   "source": [
    "mytuple=(1,2,3,4,5)          # Create a simple Tuple\n",
    "del mytuple                   # Delete the Whole Tuple by 'del' keyword\n",
    "print(mytuple)"
   ]
  },
  {
   "cell_type": "markdown",
   "id": "91ae3f99",
   "metadata": {},
   "source": [
    "<h3><strong><font color=DarkBlue , size=5px,> 2.7 Set</font></strong></h3>  </div>\n",
    "\n",
    "- Set are unordered, unchangeable, and do not allow duplicate values.\n",
    "- Set items are unchangeable, but you can remove items and add new items.\n",
    "- Sets are written with curly brackets.<br>\n",
    "<img src=\"https://pynative.com/wp-content/uploads/2021/03/python-sets.jpg\" width=\"400\" align=\"center\"/>\n",
    "<center>Reference:<a href=\"https://pynative.com/wp-content/uploads/2021/03/python-sets.jpg\"> image Link</a></center>"
   ]
  },
  {
   "cell_type": "code",
   "execution_count": 112,
   "id": "bd169a8b",
   "metadata": {},
   "outputs": [
    {
     "name": "stdout",
     "output_type": "stream",
     "text": [
      "{'grapes', 'cherry', 'banana', 'apple'} <class 'set'>\n"
     ]
    }
   ],
   "source": [
    "myset={'apple','cherry','banana','grapes'}            # Create a Set\n",
    "print(myset, type(myset))                             # Print the item and check type of by type() method"
   ]
  },
  {
   "cell_type": "markdown",
   "id": "c1bed663",
   "metadata": {},
   "source": [
    "<h3><strong><font color=DarkBlue , size=5px,> Accessing to Set:</font></strong></h3>  </div>\n",
    "\n",
    "- Using \"in\" keyword to find element in tuple. If the element is existing it's return 'True' otherwise 'False'.\n",
    "- Using \"for-loop\" to access the element in Tuple."
   ]
  },
  {
   "cell_type": "code",
   "execution_count": 113,
   "id": "9351efe1",
   "metadata": {},
   "outputs": [
    {
     "name": "stdout",
     "output_type": "stream",
     "text": [
      "True\n",
      "True\n"
     ]
    }
   ],
   "source": [
    "myset={'apple','cherry','banana','grapes'}     # Create a Set\n",
    "print('apple' in myset)                        # Find the item in Set. If the item is exist its show True otherwise False\n",
    "print('cherry' in myset)"
   ]
  },
  {
   "cell_type": "code",
   "execution_count": 114,
   "id": "7c739dd4",
   "metadata": {},
   "outputs": [
    {
     "name": "stdout",
     "output_type": "stream",
     "text": [
      "grapes\n",
      "cherry\n",
      "banana\n",
      "apple\n"
     ]
    }
   ],
   "source": [
    "myset={'apple','cherry','banana','grapes'}\n",
    "for x in myset:                       #  for-loop to access set\n",
    "    print(x)"
   ]
  },
  {
   "cell_type": "markdown",
   "id": "f905d165",
   "metadata": {},
   "source": [
    "<h3><strong><font color=DarkBlue , size=5px,> Updating Set:</font></strong></h3>  </div>\n",
    "\n",
    "- add() method to use add item in Set.\n",
    "- Update() method to use update the Set."
   ]
  },
  {
   "cell_type": "code",
   "execution_count": 115,
   "id": "5c47a2b6",
   "metadata": {},
   "outputs": [
    {
     "name": "stdout",
     "output_type": "stream",
     "text": [
      "{'grapes', 'banana', 'orange', 'cherry', 'water-melon', 'apple'}\n"
     ]
    }
   ],
   "source": [
    "myset={'apple','cherry','banana','grapes'}   # Create a simple Set\n",
    "myset.add('water-melon')                     # Adding an element in Set by add() method\n",
    "myset.add('orange')\n",
    "print(myset)"
   ]
  },
  {
   "cell_type": "code",
   "execution_count": 116,
   "id": "8029daa9",
   "metadata": {},
   "outputs": [
    {
     "name": "stdout",
     "output_type": "stream",
     "text": [
      "{'pineapple', 'grapes', 'banana', 'peach', 'orange', 'cherry', 'water-melon', 'apple'}\n"
     ]
    }
   ],
   "source": [
    "myset0={'apple', 'water-melon', 'cherry', 'grapes', 'banana', 'orange'} # Create a Set 0\n",
    "myset1={'peach','pineapple'}                                            # Create a Set 1\n",
    "myset0.update(myset1)                                                  # join two sets using update() method\n",
    "print(myset0)"
   ]
  },
  {
   "cell_type": "markdown",
   "id": "2f4ab7d0",
   "metadata": {},
   "source": [
    " <h3><strong><font color= Darkblue , size=5px,>Deleting elements from Set:</font></strong></h3>  </div>\n",
    " \n",
    "- remove() method is used to remove an item from the Set.\n",
    "- discard() method is used to remove an item from the Set.\n",
    "- pop() method Remove the last item alphabetically from Set.\n",
    "- clear() method to use the clear all item in Set.\n",
    "- del Keyword is used to Delete the Set."
   ]
  },
  {
   "cell_type": "code",
   "execution_count": 117,
   "id": "b2a74844",
   "metadata": {},
   "outputs": [
    {
     "name": "stdout",
     "output_type": "stream",
     "text": [
      "{'pineapple', 'grapes', 'banana', 'peach', 'orange', 'cherry', 'water-melon'}\n",
      "{'pineapple', 'grapes', 'banana', 'peach', 'orange', 'water-melon'}\n",
      "{'grapes', 'banana', 'peach', 'orange', 'water-melon'}\n"
     ]
    }
   ],
   "source": [
    "myset={'apple', 'cherry', 'water-melon', 'grapes', 'banana', 'peach', 'pineapple', 'orange'}\n",
    "myset.remove(\"apple\")     # remove item from set. if the item is not exist in set it's create an error. \n",
    "print(myset)\n",
    "myset.discard(\"cherry\")   # it's remove the item but the item is not exist in set it's can't generate an error.\n",
    "print(myset)\n",
    "myset.pop()                # pop() method is pop the item from set by alphabetically sequance.\n",
    "print(myset)"
   ]
  },
  {
   "cell_type": "code",
   "execution_count": 118,
   "id": "9de28def",
   "metadata": {},
   "outputs": [
    {
     "name": "stdout",
     "output_type": "stream",
     "text": [
      "set()\n"
     ]
    }
   ],
   "source": [
    "myset={'apple', 'cherry', 'water-melon', 'grapes', 'banana', 'peach', 'pineapple', 'orange'}\n",
    "myset.clear()    # clear all the item from set.\n",
    "print(myset)"
   ]
  },
  {
   "cell_type": "code",
   "execution_count": 119,
   "id": "fc05f993",
   "metadata": {},
   "outputs": [
    {
     "ename": "NameError",
     "evalue": "name 'myset' is not defined",
     "output_type": "error",
     "traceback": [
      "\u001b[1;31m---------------------------------------------------------------------------\u001b[0m",
      "\u001b[1;31mNameError\u001b[0m                                 Traceback (most recent call last)",
      "\u001b[1;32m<ipython-input-119-5bb47065807c>\u001b[0m in \u001b[0;36m<module>\u001b[1;34m\u001b[0m\n\u001b[0;32m      1\u001b[0m \u001b[0mmyset\u001b[0m\u001b[1;33m=\u001b[0m\u001b[1;33m{\u001b[0m\u001b[1;34m'apple'\u001b[0m\u001b[1;33m,\u001b[0m \u001b[1;34m'cherry'\u001b[0m\u001b[1;33m,\u001b[0m \u001b[1;34m'water-melon'\u001b[0m\u001b[1;33m,\u001b[0m \u001b[1;34m'grapes'\u001b[0m\u001b[1;33m,\u001b[0m \u001b[1;34m'banana'\u001b[0m\u001b[1;33m,\u001b[0m \u001b[1;34m'peach'\u001b[0m\u001b[1;33m,\u001b[0m \u001b[1;34m'pineapple'\u001b[0m\u001b[1;33m,\u001b[0m \u001b[1;34m'orange'\u001b[0m\u001b[1;33m}\u001b[0m\u001b[1;33m\u001b[0m\u001b[1;33m\u001b[0m\u001b[0m\n\u001b[0;32m      2\u001b[0m \u001b[1;32mdel\u001b[0m \u001b[0mmyset\u001b[0m       \u001b[1;31m# del() method delete the whole set.\u001b[0m\u001b[1;33m\u001b[0m\u001b[1;33m\u001b[0m\u001b[0m\n\u001b[1;32m----> 3\u001b[1;33m \u001b[0mprint\u001b[0m\u001b[1;33m(\u001b[0m\u001b[0mmyset\u001b[0m\u001b[1;33m)\u001b[0m\u001b[1;33m\u001b[0m\u001b[1;33m\u001b[0m\u001b[0m\n\u001b[0m",
      "\u001b[1;31mNameError\u001b[0m: name 'myset' is not defined"
     ]
    }
   ],
   "source": [
    "myset={'apple', 'cherry', 'water-melon', 'grapes', 'banana', 'peach', 'pineapple', 'orange'}\n",
    "del myset       # del() method delete the whole set.\n",
    "print(myset)"
   ]
  },
  {
   "cell_type": "markdown",
   "id": "fac865c2",
   "metadata": {},
   "source": [
    "<a id=\"3\"></a>\n",
    " <div class=\"alert alert-block alert-danger\">  \n",
    "    <h1><center><strong><font size=80px>3. Comparison Operator</font></strong></center></h1>  </div> "
   ]
  },
  {
   "cell_type": "markdown",
   "id": "2b13f9f1",
   "metadata": {},
   "source": [
    "Comparison operator is used for comparison in two value.\n",
    "After the use of Comparison operator it's return True or False in result.<br>  There are some Comparison operator:<br>\n",
    "- ==  .......... Equal operator <br>\n",
    "- !=  .......... Not Equal operator<br>\n",
    "- <   ........... Greater Than<br>\n",
    "- .>  ........... Less Than<br>\n",
    "- <=  .......... Less than or equal to<br>\n",
    "-.>= ..........Greater than or equal to <br>\n",
    "<img src=\"https://cdn.educba.com/academy/wp-content/uploads/2019/09/Python-Comparison-Operators-1.png\" width=\"400\" align=\"center\"/>\n",
    "<center>Reference:<a href=\"https://cdn.educba.com/academy/wp-content/uploads/2019/09/Python-Comparison-Operators-1.png\"> image Link</a></center>"
   ]
  },
  {
   "cell_type": "code",
   "execution_count": 120,
   "id": "fac09ac1",
   "metadata": {},
   "outputs": [
    {
     "data": {
      "text/plain": [
       "False"
      ]
     },
     "execution_count": 120,
     "metadata": {},
     "output_type": "execute_result"
    }
   ],
   "source": [
    "#4==5\n",
    "'imran'=='Haroon'     # (==) operator to compare both value."
   ]
  },
  {
   "cell_type": "code",
   "execution_count": 121,
   "id": "84d0a505",
   "metadata": {},
   "outputs": [
    {
     "name": "stdout",
     "output_type": "stream",
     "text": [
      "True\n"
     ]
    },
    {
     "data": {
      "text/plain": [
       "False"
      ]
     },
     "execution_count": 121,
     "metadata": {},
     "output_type": "execute_result"
    }
   ],
   "source": [
    "a=12\n",
    "b=10\n",
    "print(a!=b)           # (!=) for comparison.\n",
    "'ha'!='ha'"
   ]
  },
  {
   "cell_type": "code",
   "execution_count": 122,
   "id": "6fe0d814",
   "metadata": {},
   "outputs": [
    {
     "data": {
      "text/plain": [
       "True"
      ]
     },
     "execution_count": 122,
     "metadata": {},
     "output_type": "execute_result"
    }
   ],
   "source": [
    "4<5                  #   (<) for comparison.          "
   ]
  },
  {
   "cell_type": "code",
   "execution_count": 123,
   "id": "dbd42fe3",
   "metadata": {},
   "outputs": [
    {
     "data": {
      "text/plain": [
       "False"
      ]
     },
     "execution_count": 123,
     "metadata": {},
     "output_type": "execute_result"
    }
   ],
   "source": [
    "4>5                   #  (>) for comparison. 4 is not greater then 5."
   ]
  },
  {
   "cell_type": "code",
   "execution_count": 124,
   "id": "d580697a",
   "metadata": {},
   "outputs": [
    {
     "data": {
      "text/plain": [
       "True"
      ]
     },
     "execution_count": 124,
     "metadata": {},
     "output_type": "execute_result"
    }
   ],
   "source": [
    "4<=5                  #  (<=) for comparison."
   ]
  },
  {
   "cell_type": "code",
   "execution_count": 125,
   "id": "01154033",
   "metadata": {},
   "outputs": [
    {
     "data": {
      "text/plain": [
       "False"
      ]
     },
     "execution_count": 125,
     "metadata": {},
     "output_type": "execute_result"
    }
   ],
   "source": [
    "4>=5                   #  (>=) for comparison."
   ]
  },
  {
   "cell_type": "markdown",
   "id": "960cad8f",
   "metadata": {},
   "source": [
    "<a id=\"4\"></a>\n",
    " <div class=\"alert alert-block alert-danger\">  \n",
    "    <h1><center><strong><font size=80px>4. If-else Statements</font></strong></center></h1>  </div> "
   ]
  },
  {
   "cell_type": "markdown",
   "id": "c0ba9477",
   "metadata": {},
   "source": [
    "In \"if-else\" statements there are 2 blocks were creating one for \"if\" and the other one for \"else\". when the \"if\" condition<br> is 'True' \"if\" block will be\n",
    "executing otherwise \"else\" block will execute.\n",
    "<img src=\"https://www.alphacodingskills.com/python/img/python-if-else.png\" width=\"400\" align=\"center\"/>\n",
    "<center>Reference:<a href=\"https://www.alphacodingskills.com/python/img/python-if-else.png\"> image Link</a></center>"
   ]
  },
  {
   "cell_type": "code",
   "execution_count": 71,
   "id": "d0819ac2",
   "metadata": {},
   "outputs": [
    {
     "name": "stdout",
     "output_type": "stream",
     "text": [
      "Yes! 4 is less than 5\n"
     ]
    }
   ],
   "source": [
    "if (4>5):                              # Condition is True if 4 is greater than 5.\n",
    "    print(\"Yes! 4 is greater than 5\")  # When the condition is true then print this block.\n",
    "else:\n",
    "        print(\"Yes! 4 is less than 5\")  #When the condition is false print the else block"
   ]
  },
  {
   "cell_type": "code",
   "execution_count": 72,
   "id": "95c635ea",
   "metadata": {},
   "outputs": [
    {
     "name": "stdout",
     "output_type": "stream",
     "text": [
      "Yes! 4 is less than 5\n"
     ]
    }
   ],
   "source": [
    "if (4<5):                                    # Condition is True if 4 is Less than 5.\n",
    "    print(\"Yes! 4 is less than 5\")           # When the condition is true then print this block.\n",
    "else:\n",
    "        print(\"Yes! 4 is greater than 5\")    # When the condition is false print the else block"
   ]
  },
  {
   "cell_type": "code",
   "execution_count": 73,
   "id": "9b561d7f",
   "metadata": {},
   "outputs": [
    {
     "name": "stdout",
     "output_type": "stream",
     "text": [
      "TRUE\n"
     ]
    }
   ],
   "source": [
    "if 3!=2:                                  # Condition 3 is not equal 2.\n",
    "    print('TRUE')                         # When the condition is true then print this block.\n",
    "else:\n",
    "    print('FALSE')                        # When the condition is false print the else block"
   ]
  },
  {
   "cell_type": "markdown",
   "id": "eed34350",
   "metadata": {},
   "source": [
    "<a id=\"5\"></a>\n",
    "</div> <div class=\"alert alert-block alert-danger\">  \n",
    "    <h1><center><strong><font size=80px>5. For & While Loop</font></strong></center></h1>  </div> "
   ]
  },
  {
   "cell_type": "markdown",
   "id": "cf8384ab",
   "metadata": {},
   "source": [
    "We use for & While loop to repeat a task. We used for-loop when we know the iteration otherwise we used while-loop for unknown iterations.<img src=\"http://res.cloudinary.com/dyd911kmh/image/upload/f_auto,q_auto:best/v1508331558/Loop_2-2_igl4qt.jpg\" width=\"400\" align=\"center\"/>\n",
    "<center>Reference:<a href=\"http://res.cloudinary.com/dyd911kmh/image/upload/f_auto,q_auto:best/v1508331558/Loop_2-2_igl4qt.jpg\"> image Link</a></center>"
   ]
  },
  {
   "cell_type": "code",
   "execution_count": 74,
   "id": "4707c07d",
   "metadata": {},
   "outputs": [
    {
     "name": "stdout",
     "output_type": "stream",
     "text": [
      "apple\n",
      "cherry\n",
      "water-melon\n",
      "grapes\n"
     ]
    }
   ],
   "source": [
    "list1=['apple', 'cherry', 'water-melon', 'grapes']\n",
    "for x in list1:        #example of for loop\n",
    "    print(x)"
   ]
  },
  {
   "cell_type": "code",
   "execution_count": 75,
   "id": "ac032134",
   "metadata": {},
   "outputs": [
    {
     "name": "stdout",
     "output_type": "stream",
     "text": [
      "2\n",
      "3\n",
      "4\n",
      "5\n"
     ]
    }
   ],
   "source": [
    "for x in range(2,6):     #example of for loop\n",
    "    print(x)"
   ]
  },
  {
   "cell_type": "code",
   "execution_count": 76,
   "id": "7561fea9",
   "metadata": {},
   "outputs": [
    {
     "name": "stdout",
     "output_type": "stream",
     "text": [
      "120\n"
     ]
    }
   ],
   "source": [
    "#example of for loop\n",
    "fact = 1\n",
    "N = 5\n",
    "for i in range (1,N+1):\n",
    "    fact*=i\n",
    "\n",
    "print (fact)"
   ]
  },
  {
   "cell_type": "code",
   "execution_count": 77,
   "id": "482c5209",
   "metadata": {},
   "outputs": [
    {
     "name": "stdout",
     "output_type": "stream",
     "text": [
      "1\n",
      "2\n",
      "3\n",
      "4\n",
      "5\n"
     ]
    }
   ],
   "source": [
    "i = 1\n",
    "while i < 6:                    #example of While loop\n",
    "    print(i)\n",
    "    if i == 5:\n",
    "        break\n",
    "    i += 1"
   ]
  },
  {
   "cell_type": "code",
   "execution_count": 78,
   "id": "2a262d08",
   "metadata": {},
   "outputs": [
    {
     "name": "stdout",
     "output_type": "stream",
     "text": [
      "1\n",
      "2\n",
      "3\n",
      "4\n",
      "5\n",
      "i is no longer less than 6\n"
     ]
    }
   ],
   "source": [
    "i = 1          \n",
    "while i < 6:                    #example of While loop if  the value is less then 'i' giving a condition in while-loop\n",
    "    print(i)                     #print the values\n",
    "    i += 1\n",
    "else:                            # When the condition is false then the 'Else' block will exicute.\n",
    "    print(\"i is no longer less than 6\")"
   ]
  },
  {
   "cell_type": "markdown",
   "id": "97d86588",
   "metadata": {},
   "source": [
    "<a id=\"6\"></a>\n",
    "<div class=\"alert alert-block alert-danger\">  \n",
    "    <h1><center><strong><font size=120px>6. Functions</font></strong></center></h1>  </div> "
   ]
  },
  {
   "cell_type": "markdown",
   "id": "1a4ebfc5",
   "metadata": {},
   "source": [
    "- Function is creating to make the program easy. we make a program in parts with the help of functions and \n",
    "- We call the specific function for the specific task in the program.\n",
    "- A function is a block of code that only runs when it is called.\n",
    "- You can pass data into a function and the function can return data as a result.\n",
    "- We write function with \"def\" keyword and then functionname() with semi-colon.\n",
    "<br><br>\n",
    "<img src=\"https://swcarpentry.github.io/python-novice-inflammation/fig/python-function.svg\" width=\"400\" align=\"center\"/>"
   ]
  },
  {
   "cell_type": "code",
   "execution_count": 79,
   "id": "4de028eb",
   "metadata": {},
   "outputs": [
    {
     "data": {
      "text/plain": [
       "6"
      ]
     },
     "execution_count": 79,
     "metadata": {},
     "output_type": "execute_result"
    }
   ],
   "source": [
    "def multi(a,b):                # function with 2 parameters\n",
    "    x= a*b                     # Multiplication of 2 Variables\n",
    "    return x                   # Return the value to Function\n",
    "multi(3,2)                     # Function Calling "
   ]
  },
  {
   "cell_type": "code",
   "execution_count": 80,
   "id": "b29e23d3",
   "metadata": {},
   "outputs": [
    {
     "data": {
      "text/plain": [
       "'Hello! My name is Haroon.'"
      ]
     },
     "execution_count": 80,
     "metadata": {},
     "output_type": "execute_result"
    }
   ],
   "source": [
    "def paragraph(str):                   #function with a parameters\n",
    "    a=\"Hello! My name is Haroon.\"     #Assign a value to Variable\n",
    "    return a                          # Return the value to Function\n",
    "paragraph(str)                        # Function Calling"
   ]
  },
  {
   "cell_type": "markdown",
   "id": "0e3d7b9b",
   "metadata": {},
   "source": [
    "<a id=\"7\"></a>\n",
    "<div class=\"alert alert-block alert-danger\">  \n",
    "    <h1><center><strong><font size=120px>7. Lambda Functions</font></strong></center></h1>  </div> "
   ]
  },
  {
   "cell_type": "markdown",
   "id": "68e5c1c8",
   "metadata": {},
   "source": [
    "Python Lambda Functions is know as anonymous function. We can define the normal function with the keyword 'def' but the Lambda function has 'lambda' keyword. The lambda function is easy and short to code and read.\n",
    "<br>\n",
    "<img src=\"https://i1.faceprep.in/Companies-1/python-lambda-functions-new.png\" width=\"400\" align=\"center\"/>\n",
    "<center>Reference:<a href=\"https://i1.faceprep.in/Companies-1/python-lambda-functions-new.png\"> image Link</a></center>"
   ]
  },
  {
   "cell_type": "code",
   "execution_count": 81,
   "id": "944a2f71",
   "metadata": {},
   "outputs": [
    {
     "data": {
      "text/plain": [
       "10"
      ]
     },
     "execution_count": 81,
     "metadata": {},
     "output_type": "execute_result"
    }
   ],
   "source": [
    "multi=lambda x,y: x*y     # lambda Function for multiplication\n",
    "multi(5,2)"
   ]
  },
  {
   "cell_type": "code",
   "execution_count": 82,
   "id": "3b898ed8",
   "metadata": {},
   "outputs": [
    {
     "data": {
      "text/plain": [
       "3"
      ]
     },
     "execution_count": 82,
     "metadata": {},
     "output_type": "execute_result"
    }
   ],
   "source": [
    "minus=lambda x,y: x-y      # lambda Function for Subcript\n",
    "minus(5,2)"
   ]
  },
  {
   "cell_type": "markdown",
   "id": "4be397f9",
   "metadata": {},
   "source": [
    "<h3><strong><font color= Darkblue , size=5px,>7.1 Map()</font></strong></h3>  </div>\n",
    " <img src=\"https://t1.daumcdn.net/cfile/tistory/99DEF2505B8F344B16\" width=\"400\" align=\"center\"/>\n",
    "<center>Reference:<a href=\"https://t1.daumcdn.net/cfile/tistory/99DEF2505B8F344B16\"> image Link</a></center>"
   ]
  },
  {
   "cell_type": "code",
   "execution_count": 83,
   "id": "dd5a9213",
   "metadata": {},
   "outputs": [
    {
     "name": "stdout",
     "output_type": "stream",
     "text": [
      "[4, 9, 16, 25, 36, 49, 64]\n"
     ]
    }
   ],
   "source": [
    "num=[2,3,4,5,6,7,8]                   # create a list\n",
    "mul=list(map (lambda x: x*x, num))    # lambda function with map()\n",
    "print(mul)"
   ]
  },
  {
   "cell_type": "code",
   "execution_count": 84,
   "id": "2d2ae38b",
   "metadata": {},
   "outputs": [
    {
     "name": "stdout",
     "output_type": "stream",
     "text": [
      "['The', 'Universe', 'is', 'like', 'a', 'circle']\n"
     ]
    },
    {
     "data": {
      "text/plain": [
       "[3, 8, 2, 4, 1, 6]"
      ]
     },
     "execution_count": 84,
     "metadata": {},
     "output_type": "execute_result"
    }
   ],
   "source": [
    "sentence = 'The Universe is like a circle'     #Simple sentence\n",
    "words = sentence.split()           \n",
    "print (words)\n",
    "lengths = map(lambda word: len(word), words)   # Map all the length using lambda function\n",
    "list(lengths)\n"
   ]
  },
  {
   "cell_type": "markdown",
   "id": "60bafb91",
   "metadata": {},
   "source": [
    "<h3><strong><font color= Darkblue , size=5px,>7.2 filter()</font></strong></h3>  </div>\n",
    " <img src=\"https://www.w3resource.com/w3r_images/built-in-function-filter-function-image-1.png\" width=\"400\" align=\"center\"/>\n",
    "<center>Reference:<a href=\"https://www.w3resource.com/w3r_images/built-in-function-filter-function-image-1.png\"> image Link</a></center>"
   ]
  },
  {
   "cell_type": "code",
   "execution_count": 85,
   "id": "7b6dd560",
   "metadata": {},
   "outputs": [
    {
     "name": "stdout",
     "output_type": "stream",
     "text": [
      "[6, 7, 8, 9, 10]\n"
     ]
    }
   ],
   "source": [
    "num=[2,3,4,5,6,7,8,9,10]                   # create a simple list\n",
    "common=list(filter(lambda x: x>5, num))    # filter all the value Greater than 5.\n",
    "print(common)"
   ]
  },
  {
   "cell_type": "code",
   "execution_count": 86,
   "id": "63578bf0",
   "metadata": {},
   "outputs": [
    {
     "name": "stdout",
     "output_type": "stream",
     "text": [
      "[2, 3, 4]\n"
     ]
    }
   ],
   "source": [
    "num=[2,3,4,5,6,7,8,9,10]                      # create a simple list\n",
    "common=list(filter(lambda x: x<5, num))       # filter all the value Less than 5.\n",
    "print(common)"
   ]
  },
  {
   "cell_type": "markdown",
   "id": "c5b793ea",
   "metadata": {},
   "source": [
    "<a id=\"8\"></a>\n",
    "<div class=\"alert alert-block alert-danger\">  \n",
    "    <h1><center><strong><font size=120px>8. File I/O</font></strong></center></h1>  </div> \n"
   ]
  },
  {
   "cell_type": "markdown",
   "id": "7897304d",
   "metadata": {},
   "source": [
    "All the operations such as open, close, read, write and append, deal with files on the hard disk.<br>\n",
    "There are some operations of File handling:\n",
    "- r opens a file in read only mode.\n",
    "- r+ opens a file read and write mode.\n",
    "- w opens a file in write mode only.\n",
    "- a opens a file in append mode\n",
    "- a+ opens a file in append and read mode.\n",
    "<img src=\"https://i2.wp.com/techvidvan.com/tutorials/wp-content/uploads/sites/2/2020/06/Python-file-input-output.jpg?fit=802%2C420&ssl=1\" width=\"400\" align=\"center\"/>\n",
    "<center>Reference:<a href=\"https://i2.wp.com/techvidvan.com/tutorials/wp-content/uploads/sites/2/2020/06/Python-file-input-output.jpg?fit=802%2C420&ssl=1\"> image Link</a></center>"
   ]
  },
  {
   "cell_type": "code",
   "execution_count": 87,
   "id": "50086d05",
   "metadata": {},
   "outputs": [
    {
     "name": "stdout",
     "output_type": "stream",
     "text": [
      "I'm a hard working studentof my Universe\n"
     ]
    }
   ],
   "source": [
    "f=open (\"text.txt\")           #open the file which can exixting in memory if the file are not exist in memory its show an error.\n",
    "content=f.read()              # To read the file and return as a object\n",
    "print(content)\n",
    "f.close()                      # for closing the text.txt file running is background"
   ]
  },
  {
   "cell_type": "code",
   "execution_count": 88,
   "id": "7ecaec2c",
   "metadata": {},
   "outputs": [
    {
     "name": "stdout",
     "output_type": "stream",
     "text": [
      "I'm a hard working studentof my Universe\n"
     ]
    }
   ],
   "source": [
    "f=open (\"text.txt\", \"r+\")           # To read the file and its bydefault mode in file handeling.\n",
    "content=f.read()              #'f.read(5)' its read and print only five char from the file.\n",
    "print(content)\n",
    "f.close()                      # for closing the text.txt file running is background"
   ]
  },
  {
   "cell_type": "code",
   "execution_count": 89,
   "id": "fe2625c6",
   "metadata": {},
   "outputs": [
    {
     "name": "stdout",
     "output_type": "stream",
     "text": [
      "26\n"
     ]
    }
   ],
   "source": [
    "f=open (\"text.txt\", \"w\")   # write the file with keyword 'w' remenber: in this mode all the previous data will be del and new will be add..\n",
    "content=f.write(\"I'm a hard working student\")              # To read the file if we entered 'f.read(5)' its read and print only five char from the file.\n",
    "print(content)\n",
    "f.close()"
   ]
  },
  {
   "cell_type": "code",
   "execution_count": 90,
   "id": "5ecce852",
   "metadata": {},
   "outputs": [
    {
     "name": "stdout",
     "output_type": "stream",
     "text": [
      "14\n"
     ]
    }
   ],
   "source": [
    "f=open (\"text.txt\", \"a+\")           # 'a+' word opens a file in append and read mode.\n",
    "content=f.write(\"of my Universe\")   # write the sentence in text.txt file\n",
    "position = f.tell();                # To find the position\n",
    "print(content)\n",
    "f.close()                            # for closing the text.txt file running is background "
   ]
  },
  {
   "cell_type": "markdown",
   "id": "37c03f8c",
   "metadata": {},
   "source": [
    "<a id=\"9\"></a>\n",
    "<div class=\"alert alert-block alert-danger\">  \n",
    "    <h1><center><strong><font size=120px>Calculator</font></strong></center></h1>  </div> <br>\n",
    "In this Mini Project, we create a menu of Addition, Subtraction, and Multiplication and covered all the topics of python language."
   ]
  },
  {
   "cell_type": "code",
   "execution_count": null,
   "id": "7e78eff6",
   "metadata": {},
   "outputs": [
    {
     "name": "stdout",
     "output_type": "stream",
     "text": [
      "Enter your Operator:\n",
      "1.Add\n",
      "2.sub\n",
      "3.mult\n"
     ]
    }
   ],
   "source": [
    "def add(lst):  #Creating a function\n",
    "    a=0\n",
    "    for i in lst:  #using For-loop for addition\n",
    "        a=a+i\n",
    "    return a\n",
    "    \n",
    "def sub(lst):\n",
    "    plus = []  #creating empty list for positive numbers\n",
    "    minus = []     #creating empty list for nagetive numbers\n",
    "    for i in lst:\n",
    "        if i < 0:\n",
    "            minus.append(i)   # using the append method to add the data in list\n",
    "        else:\n",
    "            plus.append(i)\n",
    "        \n",
    "    plus_lst_result = 0\n",
    "    for i in plus:\n",
    "        plus_lst_result += i  # Add all the positive numbers\n",
    "\n",
    "    minus_lst_result = 0\n",
    "    for i in minus:\n",
    "        minus_lst_result += i   #add all the nagetive numbers\n",
    "    if minus_lst_result==0:\n",
    "        return (minus_lst_result-plus_lst_result)\n",
    "    else:\n",
    "        return (plus_lst_result + minus_lst_result)\n",
    "def multi(lst):              # function for Multiplicatin of numbers\n",
    "    a=1\n",
    "    for i in lst:            \n",
    "        a=a*i\n",
    "    return a\n",
    "\n",
    "print(\"Enter your Operator:\")     #  Menu-bar for calculator   \n",
    "print(\"1.Add\")\n",
    "print(\"2.sub\")\n",
    "print(\"3.mult\")\n",
    "\n",
    "while True:\n",
    "    choice=input(\"Enter your choice: \")     # Required an intput from user to perform a task\n",
    "    if choice in ('1', '2', '3'):           #Condition using for taking user choice\n",
    "        lst = []                            # This is Empty list\n",
    "        \n",
    "        while True:\n",
    "            num = int(input(\"Enter your number(Press 0 for Exit ) \"))   #Taking input from user\n",
    "            if num == 0:         # Condition when the user can press 0 the loop was break\n",
    "                break\n",
    "            else:\n",
    "                lst.append(num)           # add the numbers in list\n",
    "    if choice=='1':                     # Condition when the user enterd 1 then exicute this block.\n",
    "        print(\"Result: \",add(lst))\n",
    "    elif choice=='2':\n",
    "        print(\"Result: \",sub(lst))       # Condition when the user enterd 2 then exicute this block.\n",
    "    elif choice=='3':\n",
    "        print(\"Result: \",multi(lst))        # Condition when the user enterd 3 then exicute this block.\n",
    "                    \n",
    "    next_calculation = input(\"Let's do next calculation? (yes/no): \")# using this line to again calculation wanting yes/no fron user\n",
    "    if next_calculation == \"yes\":  #if user type \"no\" the condition will be true and the loop will be break\n",
    "        pass\n",
    "    if next_calculation == \"no\":  #if user type \"no\" the condition will be true and the loop will be break\n",
    "        print('Thanks for using this calculator!')\n",
    "        break"
   ]
  },
  {
   "cell_type": "code",
   "execution_count": null,
   "id": "cf65ca0f",
   "metadata": {},
   "outputs": [],
   "source": []
  }
 ],
 "metadata": {
  "kernelspec": {
   "display_name": "Python 3",
   "language": "python",
   "name": "python3"
  },
  "language_info": {
   "codemirror_mode": {
    "name": "ipython",
    "version": 3
   },
   "file_extension": ".py",
   "mimetype": "text/x-python",
   "name": "python",
   "nbconvert_exporter": "python",
   "pygments_lexer": "ipython3",
   "version": "3.8.8"
  }
 },
 "nbformat": 4,
 "nbformat_minor": 5
}
